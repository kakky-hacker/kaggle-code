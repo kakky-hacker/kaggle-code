{
 "cells": [
  {
   "cell_type": "markdown",
   "id": "7e3ffc78-c831-4e89-bed8-e9c673abfea1",
   "metadata": {
    "tags": []
   },
   "source": [
    "## Instration"
   ]
  },
  {
   "cell_type": "code",
   "execution_count": null,
   "id": "f299a239-d41c-4b4e-9c0a-31b34ac7024c",
   "metadata": {},
   "outputs": [],
   "source": [
    "%%writefile requirements.txt\n",
    "pandas\n",
    "xgboost\n",
    "lightgbm\n",
    "catboost\n",
    "scikit-learn\n",
    "optuna\n",
    "matplotlib\n",
    "numpy"
   ]
  },
  {
   "cell_type": "code",
   "execution_count": null,
   "id": "c5d8d961-9515-448b-961d-ea73cd1bb6c4",
   "metadata": {},
   "outputs": [],
   "source": [
    "%pip install -U --user -r requirements.txt"
   ]
  },
  {
   "cell_type": "markdown",
   "id": "db344bbf-3485-459c-ac6a-c7949674dfbf",
   "metadata": {
    "tags": []
   },
   "source": [
    "## Import library"
   ]
  },
  {
   "cell_type": "code",
   "execution_count": null,
   "id": "24453989-a3be-439b-aa40-cd496e6da591",
   "metadata": {},
   "outputs": [],
   "source": [
    "import pandas as pd\n",
    "from xgboost import XGBClassifier\n",
    "import lightgbm as lgb\n",
    "from catboost import Pool\n",
    "from catboost import CatBoostClassifier\n",
    "from sklearn.linear_model import LogisticRegression\n",
    "from sklearn.ensemble import GradientBoostingClassifier\n",
    "from sklearn.ensemble import RandomForestClassifier\n",
    "from sklearn.preprocessing import LabelEncoder\n",
    "from sklearn.metrics import r2_score, confusion_matrix, accuracy_score, precision_score, recall_score, f1_score, log_loss, roc_curve\n",
    "import optuna\n",
    "import matplotlib.pyplot as plt\n",
    "import numpy as np\n",
    "import warnings"
   ]
  },
  {
   "cell_type": "markdown",
   "id": "6b1a88aa-5f72-4707-af58-038922fbb6c7",
   "metadata": {
    "tags": []
   },
   "source": [
    "## Settings"
   ]
  },
  {
   "cell_type": "code",
   "execution_count": null,
   "id": "fe4e706e-1537-4f28-a120-16de6c981390",
   "metadata": {},
   "outputs": [],
   "source": [
    "warnings.simplefilter('ignore')"
   ]
  },
  {
   "cell_type": "markdown",
   "id": "7e6c6314-7024-47dc-864e-0a5f882c94d6",
   "metadata": {
    "tags": []
   },
   "source": [
    "## Fetch Dataset"
   ]
  },
  {
   "cell_type": "markdown",
   "id": "0e234485-da0a-401f-8d9e-b9910657865b",
   "metadata": {},
   "source": [
    "### Check if kaggle command works"
   ]
  },
  {
   "cell_type": "code",
   "execution_count": null,
   "id": "0b0a0ec9-eb44-4fde-bc22-b74cb3f97df7",
   "metadata": {},
   "outputs": [],
   "source": [
    "! kaggle -h"
   ]
  },
  {
   "cell_type": "markdown",
   "id": "965ea953-69b5-43f9-9730-8edf7fada0f0",
   "metadata": {},
   "source": [
    "### Download dataset"
   ]
  },
  {
   "cell_type": "code",
   "execution_count": null,
   "id": "afff893e-9ba3-4cf0-84ef-8fd62f701974",
   "metadata": {},
   "outputs": [],
   "source": [
    "! kaggle competitions download -c spaceship-titanic"
   ]
  },
  {
   "cell_type": "markdown",
   "id": "ef0cc418-b962-4907-9492-23354d256df4",
   "metadata": {
    "tags": []
   },
   "source": [
    "### Unzip Dataset with Windows"
   ]
  },
  {
   "cell_type": "code",
   "execution_count": null,
   "id": "8fe6726d-4cf1-4b87-abf0-b1bc570a12a4",
   "metadata": {},
   "outputs": [],
   "source": [
    "! call powershell -command \"Expand-Archive spaceship-titanic.zip data\""
   ]
  },
  {
   "cell_type": "markdown",
   "id": "d2bb1d6d-5a0d-4d63-9dbb-ffcba5de1674",
   "metadata": {
    "tags": []
   },
   "source": [
    "### Unzip Dataset with Mac"
   ]
  },
  {
   "cell_type": "code",
   "execution_count": null,
   "id": "5c245e79-b76c-41cb-8a94-02f01b5dec04",
   "metadata": {},
   "outputs": [],
   "source": [
    "! unzip spaceship-titanic.zip -d data"
   ]
  },
  {
   "cell_type": "markdown",
   "id": "b22b144a-ed75-4690-a2bd-2b940868aa15",
   "metadata": {
    "tags": []
   },
   "source": [
    "## Read data from csv"
   ]
  },
  {
   "cell_type": "code",
   "execution_count": null,
   "id": "955fca9e-05ea-4592-8eb7-ec6db795a987",
   "metadata": {},
   "outputs": [],
   "source": [
    "df_train = pd.read_csv(\"data/train.csv\")\n",
    "df_test = pd.read_csv(\"data/test.csv\")"
   ]
  },
  {
   "cell_type": "code",
   "execution_count": null,
   "id": "a1b195f4-b3d1-48e0-a3a1-4f6a8e1b9047",
   "metadata": {},
   "outputs": [],
   "source": [
    "df_train.head()"
   ]
  },
  {
   "cell_type": "markdown",
   "id": "bebfafb2-1af7-44e6-88c2-6390d55d8b9e",
   "metadata": {
    "tags": []
   },
   "source": [
    "## Fill in missing values"
   ]
  },
  {
   "cell_type": "code",
   "execution_count": null,
   "id": "3cfcb034-a9db-48a1-bffb-83982a8208c9",
   "metadata": {},
   "outputs": [],
   "source": [
    "df_train.isnull().sum()"
   ]
  },
  {
   "cell_type": "code",
   "execution_count": null,
   "id": "6daea4bf-4454-4b52-bbf0-8b531d9b9033",
   "metadata": {},
   "outputs": [],
   "source": [
    "df_train[\"Age\"] = df_train[\"Age\"].fillna(df_train[\"Age\"].mean())\n",
    "df_train[\"Cabin\"] = df_train[\"Cabin\"].fillna(method='ffill')\n",
    "df_train[\"Destination\"] = df_train[\"Destination\"].fillna(method='ffill')\n",
    "df_train[\"HomePlanet\"] = df_train[\"HomePlanet\"].fillna(method='ffill')\n",
    "df_train[\"RoomService\"] = df_train[\"RoomService\"].fillna(df_train[\"RoomService\"].median())\n",
    "df_train[\"FoodCourt\"] = df_train[\"FoodCourt\"].fillna(df_train[\"FoodCourt\"].median())\n",
    "df_train[\"ShoppingMall\"] = df_train[\"ShoppingMall\"].fillna(df_train[\"ShoppingMall\"].median())\n",
    "df_train[\"Spa\"] = df_train[\"Spa\"].fillna(df_train[\"Spa\"].median())\n",
    "df_train[\"VRDeck\"] = df_train[\"VRDeck\"].fillna(df_train[\"VRDeck\"].median())\n",
    "df_train[\"CryoSleep\"] = df_train[\"CryoSleep\"].fillna(False)\n",
    "df_train[\"VIP\"] = df_train[\"VIP\"].fillna(False)"
   ]
  },
  {
   "cell_type": "code",
   "execution_count": null,
   "id": "dcf0d6ef-f11c-4bb2-a1db-8ec737fb22bd",
   "metadata": {},
   "outputs": [],
   "source": [
    "df_test[\"Age\"] = df_test[\"Age\"].fillna(df_train[\"Age\"].mean())\n",
    "df_test[\"Cabin\"] = df_test[\"Cabin\"].fillna(method='ffill')\n",
    "df_test[\"Destination\"] = df_test[\"Destination\"].fillna(method='ffill')\n",
    "df_test[\"HomePlanet\"] = df_test[\"HomePlanet\"].fillna(method='ffill')\n",
    "df_test[\"RoomService\"] = df_test[\"RoomService\"].fillna(df_train[\"RoomService\"].median())\n",
    "df_test[\"FoodCourt\"] = df_test[\"FoodCourt\"].fillna(df_train[\"FoodCourt\"].median())\n",
    "df_test[\"ShoppingMall\"] = df_test[\"ShoppingMall\"].fillna(df_train[\"ShoppingMall\"].median())\n",
    "df_test[\"Spa\"] = df_test[\"Spa\"].fillna(df_train[\"Spa\"].median())\n",
    "df_test[\"VRDeck\"] = df_test[\"VRDeck\"].fillna(df_train[\"VRDeck\"].median())\n",
    "df_test[\"CryoSleep\"] = df_test[\"CryoSleep\"].fillna(False)\n",
    "df_test[\"VIP\"] = df_test[\"VIP\"].fillna(False)"
   ]
  },
  {
   "cell_type": "markdown",
   "id": "321b74e2-8278-490e-8b1a-531bed28d68b",
   "metadata": {
    "tags": []
   },
   "source": [
    "## Encode categorical variables"
   ]
  },
  {
   "cell_type": "markdown",
   "id": "4ab2a667-cccd-45bd-9b22-5b5310266854",
   "metadata": {
    "tags": []
   },
   "source": [
    "### HomePlanet"
   ]
  },
  {
   "cell_type": "code",
   "execution_count": null,
   "id": "aa3af63c-bae1-4162-97e2-31be7073e405",
   "metadata": {},
   "outputs": [],
   "source": [
    "print(df_train[\"HomePlanet\"].value_counts())\n",
    "print(\"=====================================\")\n",
    "hp_le = LabelEncoder()\n",
    "df_train['HomePlanet'] = hp_le.fit_transform(df_train['HomePlanet'])\n",
    "df_test['HomePlanet'] = hp_le.fit_transform(df_test['HomePlanet'])\n",
    "print(df_train[\"HomePlanet\"].value_counts())"
   ]
  },
  {
   "cell_type": "markdown",
   "id": "1c80ff54-8130-4d55-8fd0-765d79778fba",
   "metadata": {
    "tags": []
   },
   "source": [
    "### Destination"
   ]
  },
  {
   "cell_type": "code",
   "execution_count": null,
   "id": "a4d2a8c4-ed46-4c24-9b96-0f8b8ab29a13",
   "metadata": {},
   "outputs": [],
   "source": [
    "print(df_train[\"Destination\"].value_counts())\n",
    "print(\"=====================================\")\n",
    "de_le = LabelEncoder()\n",
    "df_train['Destination'] = de_le.fit_transform(df_train['Destination'])\n",
    "df_test['Destination'] = de_le.fit_transform(df_test['Destination'])\n",
    "print(df_train[\"Destination\"].value_counts())"
   ]
  },
  {
   "cell_type": "markdown",
   "id": "00c47018-3f79-4812-ab5e-78ca6353ff4c",
   "metadata": {},
   "source": [
    "### Cabin"
   ]
  },
  {
   "cell_type": "code",
   "execution_count": null,
   "id": "cf242182-601b-47a5-a738-29885e17798f",
   "metadata": {},
   "outputs": [],
   "source": [
    "decks = [\"A\", \"B\", \"C\", \"D\", \"E\", \"F\", \"G\", \"T\"]\n",
    "sides = [\"P\", \"S\"]\n",
    "def EncodeCabin(value):\n",
    "    deck, num, side = value.split(\"/\")\n",
    "    return [decks.index(deck), int(num), sides.index(side)]\n",
    "df_train[\"Cabin\"] = df_train[\"Cabin\"].map(EncodeCabin)\n",
    "df_test[\"Cabin\"] = df_test[\"Cabin\"].map(EncodeCabin)"
   ]
  },
  {
   "cell_type": "markdown",
   "id": "251d96b2-6f32-4b66-a49e-a19b02af75eb",
   "metadata": {},
   "source": [
    "### Id"
   ]
  },
  {
   "cell_type": "code",
   "execution_count": null,
   "id": "0d5bb856-b820-46ab-8ad3-c8d73c119582",
   "metadata": {},
   "outputs": [],
   "source": [
    "group_count_dict = {}\n",
    "for p_id in list(df_train[\"PassengerId\"]) + list(df_test[\"PassengerId\"]):\n",
    "    group = str(p_id).split(\"_\")[0]\n",
    "    if group not in group_count_dict:\n",
    "        group_count_dict[group] = 0\n",
    "    group_count_dict[group] += 1\n",
    "def EncodeId(value):\n",
    "    return group_count_dict[value.split(\"_\")[0]]\n",
    "df_train[\"PassengerId\"] = df_train[\"PassengerId\"].map(EncodeId)\n",
    "df_test[\"PassengerId\"] = df_test[\"PassengerId\"].map(EncodeId)"
   ]
  },
  {
   "cell_type": "markdown",
   "id": "b77ef0a4-9aa4-4a43-bafd-709f342e08e3",
   "metadata": {
    "tags": []
   },
   "source": [
    "## Create feature"
   ]
  },
  {
   "cell_type": "code",
   "execution_count": null,
   "id": "53211757-7c69-4f5e-9ec0-7eedaf178581",
   "metadata": {},
   "outputs": [],
   "source": [
    "df_train[\"Amount_of_money\"] = df_train[\"RoomService\"] + df_train[\"FoodCourt\"] + df_train[\"ShoppingMall\"] + df_train[\"Spa\"] + df_train[\"VRDeck\"]\n",
    "df_test[\"Amount_of_money\"] = df_test[\"RoomService\"] + df_test[\"FoodCourt\"] + df_test[\"ShoppingMall\"] + df_test[\"Spa\"] + df_test[\"VRDeck\"]"
   ]
  },
  {
   "cell_type": "markdown",
   "id": "a43ae61a-2201-486d-8f34-698df1a7187f",
   "metadata": {
    "tags": []
   },
   "source": [
    "## Learning"
   ]
  },
  {
   "cell_type": "markdown",
   "id": "c61a8319-67b7-4bdd-b38d-7ca737bb7b31",
   "metadata": {
    "tags": []
   },
   "source": [
    "### Prepare data"
   ]
  },
  {
   "cell_type": "code",
   "execution_count": null,
   "id": "1cd9a13c-d71f-4039-bcd9-871175610391",
   "metadata": {},
   "outputs": [],
   "source": [
    "dataX = [[p_id, hp, cs]  + cabin + [des, age, rs, fc, sm, spa, vr, am] for p_id, hp, cs, cabin, des, age, vip, rs, fc, sm, spa, vr, name, trans, am in df_train.to_numpy()]\n",
    "dataY = [[int(trans)] for p_id, hp, cs, cabin, des, age, vip, rs, fc, sm, spa, vr, name, trans, am in df_train.to_numpy()]"
   ]
  },
  {
   "cell_type": "markdown",
   "id": "3dbaec77-50fe-4150-b665-43c3e3e9042b",
   "metadata": {
    "tags": []
   },
   "source": [
    "### GBT"
   ]
  },
  {
   "cell_type": "code",
   "execution_count": null,
   "id": "0ac51b2b-7cd5-4e24-b1a5-8dd2b9e49ccb",
   "metadata": {},
   "outputs": [],
   "source": [
    "num_block = 4\n",
    "test_data_num = len(dataX) // num_block\n",
    "\n",
    "accs = []\n",
    "for i in range(len(dataX) // test_data_num):\n",
    "    # データ分割\n",
    "    trainX = dataX[:test_data_num*i] + dataX[test_data_num*(i+1):]\n",
    "    trainY = dataY[:test_data_num*i] + dataY[test_data_num*(i+1):]\n",
    "    validX = dataX[test_data_num*i:test_data_num*(i+1)]\n",
    "    validY = dataY[test_data_num*i:test_data_num*(i+1)]\n",
    "    \n",
    "    #学習\n",
    "    gbt_model = GradientBoostingClassifier(n_estimators=1000, learning_rate=0.00457544, max_depth=19, random_state=0)\n",
    "    gbt_model.fit(trainX, trainY)\n",
    "\n",
    "    # 予測\n",
    "    predY = gbt_model.predict(validX)\n",
    "\n",
    "    # 評価    \n",
    "    accs.append(accuracy_score(validY, predY))\n",
    "    \n",
    "print(\"acc : \", np.average(accs))"
   ]
  },
  {
   "cell_type": "markdown",
   "id": "b680e239-6cd9-4dc4-bfb4-c8585625380d",
   "metadata": {
    "tags": []
   },
   "source": [
    "### XGBoost"
   ]
  },
  {
   "cell_type": "code",
   "execution_count": null,
   "id": "dbe95061-3681-42c4-a4eb-5a00795e0857",
   "metadata": {},
   "outputs": [],
   "source": [
    "num_block = 4\n",
    "test_data_num = len(dataX) // num_block\n",
    "\n",
    "accs = []\n",
    "for i in range(len(dataX) // test_data_num):\n",
    "    # データ分割\n",
    "    trainX = dataX[:test_data_num*i] + dataX[test_data_num*(i+1):]\n",
    "    trainY = dataY[:test_data_num*i] + dataY[test_data_num*(i+1):]\n",
    "    validX = dataX[test_data_num*i:test_data_num*(i+1)]\n",
    "    validY = dataY[test_data_num*i:test_data_num*(i+1)]\n",
    "    \n",
    "    #学習\n",
    "    xgb_model = XGBClassifier(eta=0.1)\n",
    "    xgb_model.fit(trainX, trainY)\n",
    "\n",
    "    # 予測\n",
    "    predY = xgb_model.predict(validX)\n",
    "\n",
    "    # 評価    \n",
    "    accs.append(accuracy_score(validY, predY))\n",
    "    \n",
    "print(\"acc : \", np.average(accs))"
   ]
  },
  {
   "cell_type": "markdown",
   "id": "96da91fa-a262-48bd-92be-9e9ff374810b",
   "metadata": {
    "tags": []
   },
   "source": [
    "### LightGBM"
   ]
  },
  {
   "cell_type": "code",
   "execution_count": null,
   "id": "9efaa17c-a63c-4242-96ce-f5ee86532eb6",
   "metadata": {},
   "outputs": [],
   "source": [
    "num_block = 4\n",
    "test_data_num = len(dataX) // num_block\n",
    "\n",
    "accs = []\n",
    "for i in range(len(dataX) // test_data_num):\n",
    "    # データ分割\n",
    "    trainX = dataX[:test_data_num*i] + dataX[test_data_num*(i+1):]\n",
    "    trainY = dataY[:test_data_num*i] + dataY[test_data_num*(i+1):]\n",
    "    validX = dataX[test_data_num*i:test_data_num*(i+1)]\n",
    "    validY = dataY[test_data_num*i:test_data_num*(i+1)]\n",
    "    \n",
    "    #学習\n",
    "    lgb_model = lgb.LGBMClassifier(metric=\"logloss\", n_estimators=1200, learning_rate=0.00457544, max_depth=19, num_leaves=26, min_child_samples=5)\n",
    "    lgb_model.fit(trainX, trainY)\n",
    "\n",
    "    # 予測\n",
    "    predY = lgb_model.predict(validX)\n",
    "\n",
    "    # 評価    \n",
    "    accs.append(accuracy_score(validY, predY))\n",
    "    \n",
    "print(\"acc : \", np.average(accs))\n",
    "print(lgb_model.feature_importances_)"
   ]
  },
  {
   "cell_type": "markdown",
   "id": "0809127f-0a67-4049-857c-9ff29056c06f",
   "metadata": {
    "tags": []
   },
   "source": [
    "### CatBoost"
   ]
  },
  {
   "cell_type": "code",
   "execution_count": null,
   "id": "0ec4f923-82f7-45fa-bff8-94a3c7690221",
   "metadata": {},
   "outputs": [],
   "source": [
    "num_block = 4\n",
    "test_data_num = len(dataX) // num_block\n",
    "\n",
    "accs = []\n",
    "for i in range(len(dataX) // test_data_num):\n",
    "    # データ分割\n",
    "    trainX = dataX[:test_data_num*i] + dataX[test_data_num*(i+1):]\n",
    "    trainY = dataY[:test_data_num*i] + dataY[test_data_num*(i+1):]\n",
    "    validX = dataX[test_data_num*i:test_data_num*(i+1)]\n",
    "    validY = dataY[test_data_num*i:test_data_num*(i+1)]\n",
    "    train_pool = Pool(trainX, label=trainY)\n",
    "    test_pool = Pool(validX, label=validY)\n",
    "    \n",
    "    #学習\n",
    "    cat_model = CatBoostClassifier(eval_metric=\"Logloss\", num_boost_round=60, logging_level='Silent')\n",
    "    cat_model.fit(train_pool)\n",
    "\n",
    "    # 予測\n",
    "    predY = cat_model.predict(test_pool, prediction_type='Class')\n",
    "\n",
    "    # 評価    \n",
    "    accs.append(accuracy_score(validY, predY))\n",
    "    \n",
    "print(\"acc : \", np.average(accs))"
   ]
  },
  {
   "cell_type": "markdown",
   "id": "d32c4f5d-094b-4a4b-a7d5-fe4c2adf254c",
   "metadata": {
    "tags": []
   },
   "source": [
    "### RandomForest"
   ]
  },
  {
   "cell_type": "code",
   "execution_count": null,
   "id": "a014a3b6-6417-4759-972c-0ae510b04250",
   "metadata": {},
   "outputs": [],
   "source": [
    "num_block = 4\n",
    "test_data_num = len(dataX) // num_block\n",
    "\n",
    "accs = []\n",
    "for i in range(len(dataX) // test_data_num):\n",
    "    # データ分割\n",
    "    trainX = dataX[:test_data_num*i] + dataX[test_data_num*(i+1):]\n",
    "    trainY = dataY[:test_data_num*i] + dataY[test_data_num*(i+1):]\n",
    "    validX = dataX[test_data_num*i:test_data_num*(i+1)]\n",
    "    validY = dataY[test_data_num*i:test_data_num*(i+1)]\n",
    "    \n",
    "    #学習\n",
    "    rfc_models = [RandomForestClassifier(n_estimators=600, max_depth=40, max_features='log2'),\n",
    "                  RandomForestClassifier(n_estimators=600, max_depth=40, max_features='log2'),\n",
    "                  RandomForestClassifier(n_estimators=600, max_depth=40, max_features='log2'),\n",
    "                  RandomForestClassifier(n_estimators=600, max_depth=40, max_features='log2'),\n",
    "                  RandomForestClassifier(n_estimators=600, max_depth=40, max_features='log2')]\n",
    "    for rfc_model in rfc_models:\n",
    "        rfc_model.fit(trainX, trainY)\n",
    "\n",
    "    # 予測\n",
    "    predYs = []\n",
    "    for rfc_model in rfc_models:\n",
    "        predYs.append(rfc_model.predict(validX))\n",
    "    predY = [1 if sum(p) >= 3 else 0 for p in zip(predYs[0], predYs[1], predYs[2], predYs[3], \n",
    "                                                  predYs[4])]\n",
    "\n",
    "    # 評価\n",
    "    accs.append(accuracy_score(validY, predY))\n",
    "    \n",
    "print(\"acc : \", np.average(accs))"
   ]
  },
  {
   "cell_type": "markdown",
   "id": "78fecef8-6865-44fd-be38-a9a784b57914",
   "metadata": {
    "tags": []
   },
   "source": [
    "## Turning Hyper Param"
   ]
  },
  {
   "cell_type": "markdown",
   "id": "7721219f-b1e3-4ec0-b301-7cefb5945644",
   "metadata": {},
   "source": [
    "### LightGBM"
   ]
  },
  {
   "cell_type": "code",
   "execution_count": null,
   "id": "74029f56-5b88-4c27-83c9-b77bbb862dcd",
   "metadata": {},
   "outputs": [],
   "source": [
    "def optuna_objective(trial):\n",
    "    # 最適化対象パラメータ\n",
    "    learning_rate = trial.suggest_float('learning_rate', 1e-5, 1e-1)\n",
    "    n_estimators = trial.suggest_int('n_estimators', 300, 2000)\n",
    "    max_depth = trial.suggest_int('max_depth', 5, 30)\n",
    "    num_leaves = trial.suggest_int('num_leaves', 5, 100)\n",
    "    min_child_samples = trial.suggest_int('min_child_samples', 3, 30)\n",
    "    \n",
    "    accs = []\n",
    "    for i in range(len(dataX) // test_data_num):\n",
    "        # データ分割\n",
    "        trainX = dataX[:test_data_num*i] + dataX[test_data_num*(i+1):]\n",
    "        trainY = dataY[:test_data_num*i] + dataY[test_data_num*(i+1):]\n",
    "        validX = dataX[test_data_num*i:test_data_num*(i+1)]\n",
    "        validY = dataY[test_data_num*i:test_data_num*(i+1)]\n",
    "\n",
    "        # lightGBMの学習\n",
    "        lgb_model = lgb.LGBMClassifier(n_estimators=n_estimators, learning_rate=learning_rate, max_depth=max_depth, num_leaves=num_leaves, min_child_samples=min_child_samples)\n",
    "        lgb_model.fit(trainX, trainY)\n",
    "\n",
    "        # 予測\n",
    "        predY = lgb_model.predict(validX)\n",
    "\n",
    "        # 評価    \n",
    "        accs.append(accuracy_score(validY, predY))\n",
    "        \n",
    "    return np.average(accs)\n",
    "\n",
    "study = optuna.create_study(direction='maximize')\n",
    "study.optimize(optuna_objective, n_trials=1000)"
   ]
  },
  {
   "cell_type": "markdown",
   "id": "8c2dd519-ff8e-4a73-915f-fdaebde7bd1c",
   "metadata": {
    "tags": []
   },
   "source": [
    "## Submission"
   ]
  },
  {
   "cell_type": "markdown",
   "id": "150e3719-be18-4a35-b4d6-323a2d5e8c4e",
   "metadata": {},
   "source": [
    "### Read data"
   ]
  },
  {
   "cell_type": "code",
   "execution_count": null,
   "id": "8f235bd5-7f39-4db1-b123-7f74a796b162",
   "metadata": {},
   "outputs": [],
   "source": [
    "df_sub = pd.read_csv(\"data/sample_submission.csv\")"
   ]
  },
  {
   "cell_type": "markdown",
   "id": "e0251a00-032a-4e6f-aa8c-e250281b3795",
   "metadata": {},
   "source": [
    "### Learn model"
   ]
  },
  {
   "cell_type": "markdown",
   "id": "5765179a-17ed-47fc-8c39-2d2af24282c6",
   "metadata": {},
   "source": [
    "### GBT"
   ]
  },
  {
   "cell_type": "code",
   "execution_count": null,
   "id": "db7d30d4-eae6-4025-89b0-f46c73301057",
   "metadata": {},
   "outputs": [],
   "source": [
    "gbt_model = GradientBoostingClassifier(n_estimators=1000, learning_rate=0.00457544, max_depth=19, random_state=0)\n",
    "gbt_model.fit(dataX, dataY)"
   ]
  },
  {
   "cell_type": "markdown",
   "id": "2eb84dbc-3469-4497-b0e0-cb738efcae64",
   "metadata": {},
   "source": [
    "### AdaBoost"
   ]
  },
  {
   "cell_type": "code",
   "execution_count": null,
   "id": "ddba384f-1088-4750-bd21-b7bd8a8db104",
   "metadata": {},
   "outputs": [],
   "source": [
    "xgb_model = XGBClassifier(eta=0.1)\n",
    "xgb_model.fit(dataX, dataY)"
   ]
  },
  {
   "cell_type": "markdown",
   "id": "c6a60593-f971-439c-b53d-14042df2967d",
   "metadata": {
    "tags": []
   },
   "source": [
    "#### LightGBM"
   ]
  },
  {
   "cell_type": "code",
   "execution_count": null,
   "id": "88146dd1-abd1-425b-b502-f961473f7385",
   "metadata": {},
   "outputs": [],
   "source": [
    "lgb_model = lgb.LGBMClassifier(metric=\"logloss\", n_estimators=1200, learning_rate=0.00457544, max_depth=19, num_leaves=26, min_child_samples=5)\n",
    "lgb_model.fit(dataX, dataY)"
   ]
  },
  {
   "cell_type": "markdown",
   "id": "2340233f-3fd1-4843-8a81-55abce403bff",
   "metadata": {
    "tags": []
   },
   "source": [
    "#### CatBoost"
   ]
  },
  {
   "cell_type": "code",
   "execution_count": null,
   "id": "c7638e6d-14b3-40f6-838f-cf834f5c0d43",
   "metadata": {},
   "outputs": [],
   "source": [
    "data_pool = Pool(dataX, label=dataY)\n",
    "cat_model = CatBoostClassifier(eval_metric=\"Logloss\", num_boost_round=60, logging_level='Silent')\n",
    "cat_model.fit(data_pool)"
   ]
  },
  {
   "cell_type": "markdown",
   "id": "f2242bce-3fad-48ef-b256-384859e844c5",
   "metadata": {},
   "source": [
    "#### RandomForest"
   ]
  },
  {
   "cell_type": "code",
   "execution_count": null,
   "id": "12673012-b41d-4262-adf5-73207e8990af",
   "metadata": {},
   "outputs": [],
   "source": [
    "rfc_models = [RandomForestClassifier(n_estimators=600, max_depth=40, max_features='log2'),\n",
    "                  RandomForestClassifier(n_estimators=600, max_depth=40, max_features='log2'),\n",
    "                  RandomForestClassifier(n_estimators=600, max_depth=40, max_features='log2'),\n",
    "                  RandomForestClassifier(n_estimators=600, max_depth=40, max_features='log2'),\n",
    "                  RandomForestClassifier(n_estimators=600, max_depth=40, max_features='log2'),\n",
    "                  RandomForestClassifier(n_estimators=600, max_depth=40, max_features='log2'),\n",
    "                  RandomForestClassifier(n_estimators=600, max_depth=40, max_features='log2')]\n",
    "for rfc_model in rfc_models:\n",
    "    rfc_model.fit(dataX, dataY)"
   ]
  },
  {
   "cell_type": "markdown",
   "id": "232b36f5-ad18-4682-a561-0ff6338ff030",
   "metadata": {
    "tags": []
   },
   "source": [
    "### Prepare test data"
   ]
  },
  {
   "cell_type": "code",
   "execution_count": null,
   "id": "98944d83-1212-4463-9b6e-f25cc9f78dfd",
   "metadata": {},
   "outputs": [],
   "source": [
    "testX = [[p_id, hp, cs]  + cabin + [des, age, rs, fc, sm, spa, vr, am] for p_id, hp, cs, cabin, des, age, vip , rs, fc, sm, spa, vr, name, am in df_test.to_numpy()]"
   ]
  },
  {
   "cell_type": "markdown",
   "id": "b3ce24f6-188a-4550-a944-d8335dd2bf20",
   "metadata": {},
   "source": [
    "### Predict and ensemble"
   ]
  },
  {
   "cell_type": "markdown",
   "id": "9a61ea9d-b3ca-4861-81a1-cc63b23b32c9",
   "metadata": {},
   "source": [
    "#### GBT"
   ]
  },
  {
   "cell_type": "code",
   "execution_count": null,
   "id": "55c044bd-b177-41d0-a85d-4af47e2f17fe",
   "metadata": {},
   "outputs": [],
   "source": [
    "gbt_predY = list(map(bool, gbt_model.predict(testX)))"
   ]
  },
  {
   "cell_type": "markdown",
   "id": "04abee89-8e97-42c4-9e78-f5794912a1c9",
   "metadata": {},
   "source": [
    "#### XGBoost"
   ]
  },
  {
   "cell_type": "code",
   "execution_count": null,
   "id": "86c2657c-e0dc-4b8b-9a2c-66402b1ceb4d",
   "metadata": {},
   "outputs": [],
   "source": [
    "xgb_predY = list(map(bool, xgb_model.predict(testX)))"
   ]
  },
  {
   "cell_type": "markdown",
   "id": "fb5193b1-4d8a-4aaf-abd9-41e3420fed52",
   "metadata": {
    "tags": []
   },
   "source": [
    "#### LightGBM"
   ]
  },
  {
   "cell_type": "code",
   "execution_count": null,
   "id": "62d9e5b3-7c0f-46c3-a497-7b420c8c9e6b",
   "metadata": {},
   "outputs": [],
   "source": [
    "lgb_predY = list(map(bool, lgb_model.predict(testX)))"
   ]
  },
  {
   "cell_type": "markdown",
   "id": "2fa1385e-d456-450c-a890-8ec27e7b0ede",
   "metadata": {
    "tags": []
   },
   "source": [
    "#### CatBoost"
   ]
  },
  {
   "cell_type": "code",
   "execution_count": null,
   "id": "4c02ac4a-e68a-4c08-9ff8-b52f204bce95",
   "metadata": {},
   "outputs": [],
   "source": [
    "test_pool = Pool(testX)\n",
    "cat_predY = list(map(bool, cat_model.predict(test_pool, prediction_type='Class')))"
   ]
  },
  {
   "cell_type": "markdown",
   "id": "fbfe9f52-ed5d-4206-a2a9-5cefd5ddfa25",
   "metadata": {
    "tags": []
   },
   "source": [
    "#### RandomForest"
   ]
  },
  {
   "cell_type": "code",
   "execution_count": null,
   "id": "4f01bb31-169d-4582-b95a-7cc9714274f7",
   "metadata": {},
   "outputs": [],
   "source": [
    "predYs = []\n",
    "for rfc_model in rfc_models:\n",
    "    predYs.append(rfc_model.predict(testX))\n",
    "rfc_predY = [1 if sum(p) >= 4 else 0 for p in zip(predYs[0], predYs[1], predYs[2], predYs[3], \n",
    "                                              predYs[4], predYs[5], predYs[6])]"
   ]
  },
  {
   "cell_type": "markdown",
   "id": "15210815-ac0c-468a-be04-485c440c74cf",
   "metadata": {
    "tags": []
   },
   "source": [
    "#### Ensemble"
   ]
  },
  {
   "cell_type": "code",
   "execution_count": null,
   "id": "0f4a48a8-57a3-432d-bdc2-9b965aee2408",
   "metadata": {},
   "outputs": [],
   "source": [
    "df_sub[\"Transported\"] = [True if sum(p) >= 3 else False for p in zip(gbt_predY, xgb_predY, lgb_predY, cat_predY, rfc_predY)]"
   ]
  },
  {
   "cell_type": "markdown",
   "id": "65b4babc-939a-4947-af63-bf6b79ba68e2",
   "metadata": {
    "tags": []
   },
   "source": [
    "### Output submission file"
   ]
  },
  {
   "cell_type": "code",
   "execution_count": null,
   "id": "4b605ff5-ce21-43a4-9f41-8ffafff81795",
   "metadata": {},
   "outputs": [],
   "source": [
    "df_sub.to_csv(\"data/submission.csv\", index=False)"
   ]
  }
 ],
 "metadata": {
  "kernelspec": {
   "display_name": "Python 3 (ipykernel)",
   "language": "python",
   "name": "python3"
  },
  "language_info": {
   "codemirror_mode": {
    "name": "ipython",
    "version": 3
   },
   "file_extension": ".py",
   "mimetype": "text/x-python",
   "name": "python",
   "nbconvert_exporter": "python",
   "pygments_lexer": "ipython3",
   "version": "3.10.8"
  }
 },
 "nbformat": 4,
 "nbformat_minor": 5
}
