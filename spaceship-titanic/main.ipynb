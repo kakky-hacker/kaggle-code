{
 "cells": [
  {
   "cell_type": "markdown",
   "id": "7e3ffc78-c831-4e89-bed8-e9c673abfea1",
   "metadata": {
    "tags": []
   },
   "source": [
    "## Instration"
   ]
  },
  {
   "cell_type": "code",
   "execution_count": null,
   "id": "f299a239-d41c-4b4e-9c0a-31b34ac7024c",
   "metadata": {},
   "outputs": [],
   "source": [
    "%%writefile requirements.txt\n",
    "pandas\n",
    "lightgbm\n",
    "scikit-learn\n",
    "optuna\n",
    "matplotlib\n",
    "numpy\n",
    "kaggle"
   ]
  },
  {
   "cell_type": "code",
   "execution_count": null,
   "id": "c5d8d961-9515-448b-961d-ea73cd1bb6c4",
   "metadata": {},
   "outputs": [],
   "source": [
    "%pip install -U --user -r requirements.txt"
   ]
  },
  {
   "cell_type": "markdown",
   "id": "db344bbf-3485-459c-ac6a-c7949674dfbf",
   "metadata": {
    "tags": []
   },
   "source": [
    "## Import library"
   ]
  },
  {
   "cell_type": "code",
   "execution_count": 34,
   "id": "24453989-a3be-439b-aa40-cd496e6da591",
   "metadata": {},
   "outputs": [],
   "source": [
    "import pandas as pd\n",
    "import lightgbm as lgb\n",
    "from sklearn.preprocessing import LabelEncoder\n",
    "from sklearn.metrics import r2_score, confusion_matrix, accuracy_score, precision_score, recall_score, f1_score, log_loss, roc_curve\n",
    "import optuna\n",
    "import matplotlib.pyplot as plt\n",
    "import numpy as np\n",
    "import warnings"
   ]
  },
  {
   "cell_type": "markdown",
   "id": "6b1a88aa-5f72-4707-af58-038922fbb6c7",
   "metadata": {
    "tags": []
   },
   "source": [
    "## Settings"
   ]
  },
  {
   "cell_type": "code",
   "execution_count": 35,
   "id": "fe4e706e-1537-4f28-a120-16de6c981390",
   "metadata": {},
   "outputs": [],
   "source": [
    "warnings.simplefilter('ignore')"
   ]
  },
  {
   "cell_type": "markdown",
   "id": "7e6c6314-7024-47dc-864e-0a5f882c94d6",
   "metadata": {},
   "source": [
    "## Fetch Dataset"
   ]
  },
  {
   "cell_type": "code",
   "execution_count": 36,
   "id": "afff893e-9ba3-4cf0-84ef-8fd62f701974",
   "metadata": {},
   "outputs": [
    {
     "name": "stdout",
     "output_type": "stream",
     "text": [
      "spaceship-titanic.zip: Skipping, found more recently modified local copy (use --force to force download)\n"
     ]
    }
   ],
   "source": [
    "! kaggle competitions download -c spaceship-titanic"
   ]
  },
  {
   "cell_type": "code",
   "execution_count": null,
   "id": "8fe6726d-4cf1-4b87-abf0-b1bc570a12a4",
   "metadata": {},
   "outputs": [],
   "source": [
    "! call powershell -command \"Expand-Archive spaceship-titanic.zip data\""
   ]
  },
  {
   "cell_type": "markdown",
   "id": "b22b144a-ed75-4690-a2bd-2b940868aa15",
   "metadata": {
    "tags": []
   },
   "source": [
    "## Read data from csv"
   ]
  },
  {
   "cell_type": "code",
   "execution_count": 41,
   "id": "955fca9e-05ea-4592-8eb7-ec6db795a987",
   "metadata": {},
   "outputs": [],
   "source": [
    "df_train = pd.read_csv(\"data/train.csv\")\n",
    "df_test = pd.read_csv(\"data/test.csv\")"
   ]
  },
  {
   "cell_type": "code",
   "execution_count": 42,
   "id": "a1b195f4-b3d1-48e0-a3a1-4f6a8e1b9047",
   "metadata": {},
   "outputs": [
    {
     "data": {
      "text/html": [
       "<div>\n",
       "<style scoped>\n",
       "    .dataframe tbody tr th:only-of-type {\n",
       "        vertical-align: middle;\n",
       "    }\n",
       "\n",
       "    .dataframe tbody tr th {\n",
       "        vertical-align: top;\n",
       "    }\n",
       "\n",
       "    .dataframe thead th {\n",
       "        text-align: right;\n",
       "    }\n",
       "</style>\n",
       "<table border=\"1\" class=\"dataframe\">\n",
       "  <thead>\n",
       "    <tr style=\"text-align: right;\">\n",
       "      <th></th>\n",
       "      <th>PassengerId</th>\n",
       "      <th>HomePlanet</th>\n",
       "      <th>CryoSleep</th>\n",
       "      <th>Cabin</th>\n",
       "      <th>Destination</th>\n",
       "      <th>Age</th>\n",
       "      <th>VIP</th>\n",
       "      <th>RoomService</th>\n",
       "      <th>FoodCourt</th>\n",
       "      <th>ShoppingMall</th>\n",
       "      <th>Spa</th>\n",
       "      <th>VRDeck</th>\n",
       "      <th>Name</th>\n",
       "      <th>Transported</th>\n",
       "    </tr>\n",
       "  </thead>\n",
       "  <tbody>\n",
       "    <tr>\n",
       "      <th>0</th>\n",
       "      <td>0001_01</td>\n",
       "      <td>Europa</td>\n",
       "      <td>False</td>\n",
       "      <td>B/0/P</td>\n",
       "      <td>TRAPPIST-1e</td>\n",
       "      <td>39.0</td>\n",
       "      <td>False</td>\n",
       "      <td>0.0</td>\n",
       "      <td>0.0</td>\n",
       "      <td>0.0</td>\n",
       "      <td>0.0</td>\n",
       "      <td>0.0</td>\n",
       "      <td>Maham Ofracculy</td>\n",
       "      <td>False</td>\n",
       "    </tr>\n",
       "    <tr>\n",
       "      <th>1</th>\n",
       "      <td>0002_01</td>\n",
       "      <td>Earth</td>\n",
       "      <td>False</td>\n",
       "      <td>F/0/S</td>\n",
       "      <td>TRAPPIST-1e</td>\n",
       "      <td>24.0</td>\n",
       "      <td>False</td>\n",
       "      <td>109.0</td>\n",
       "      <td>9.0</td>\n",
       "      <td>25.0</td>\n",
       "      <td>549.0</td>\n",
       "      <td>44.0</td>\n",
       "      <td>Juanna Vines</td>\n",
       "      <td>True</td>\n",
       "    </tr>\n",
       "    <tr>\n",
       "      <th>2</th>\n",
       "      <td>0003_01</td>\n",
       "      <td>Europa</td>\n",
       "      <td>False</td>\n",
       "      <td>A/0/S</td>\n",
       "      <td>TRAPPIST-1e</td>\n",
       "      <td>58.0</td>\n",
       "      <td>True</td>\n",
       "      <td>43.0</td>\n",
       "      <td>3576.0</td>\n",
       "      <td>0.0</td>\n",
       "      <td>6715.0</td>\n",
       "      <td>49.0</td>\n",
       "      <td>Altark Susent</td>\n",
       "      <td>False</td>\n",
       "    </tr>\n",
       "    <tr>\n",
       "      <th>3</th>\n",
       "      <td>0003_02</td>\n",
       "      <td>Europa</td>\n",
       "      <td>False</td>\n",
       "      <td>A/0/S</td>\n",
       "      <td>TRAPPIST-1e</td>\n",
       "      <td>33.0</td>\n",
       "      <td>False</td>\n",
       "      <td>0.0</td>\n",
       "      <td>1283.0</td>\n",
       "      <td>371.0</td>\n",
       "      <td>3329.0</td>\n",
       "      <td>193.0</td>\n",
       "      <td>Solam Susent</td>\n",
       "      <td>False</td>\n",
       "    </tr>\n",
       "    <tr>\n",
       "      <th>4</th>\n",
       "      <td>0004_01</td>\n",
       "      <td>Earth</td>\n",
       "      <td>False</td>\n",
       "      <td>F/1/S</td>\n",
       "      <td>TRAPPIST-1e</td>\n",
       "      <td>16.0</td>\n",
       "      <td>False</td>\n",
       "      <td>303.0</td>\n",
       "      <td>70.0</td>\n",
       "      <td>151.0</td>\n",
       "      <td>565.0</td>\n",
       "      <td>2.0</td>\n",
       "      <td>Willy Santantines</td>\n",
       "      <td>True</td>\n",
       "    </tr>\n",
       "  </tbody>\n",
       "</table>\n",
       "</div>"
      ],
      "text/plain": [
       "  PassengerId HomePlanet CryoSleep  Cabin  Destination   Age    VIP  \\\n",
       "0     0001_01     Europa     False  B/0/P  TRAPPIST-1e  39.0  False   \n",
       "1     0002_01      Earth     False  F/0/S  TRAPPIST-1e  24.0  False   \n",
       "2     0003_01     Europa     False  A/0/S  TRAPPIST-1e  58.0   True   \n",
       "3     0003_02     Europa     False  A/0/S  TRAPPIST-1e  33.0  False   \n",
       "4     0004_01      Earth     False  F/1/S  TRAPPIST-1e  16.0  False   \n",
       "\n",
       "   RoomService  FoodCourt  ShoppingMall     Spa  VRDeck               Name  \\\n",
       "0          0.0        0.0           0.0     0.0     0.0    Maham Ofracculy   \n",
       "1        109.0        9.0          25.0   549.0    44.0       Juanna Vines   \n",
       "2         43.0     3576.0           0.0  6715.0    49.0      Altark Susent   \n",
       "3          0.0     1283.0         371.0  3329.0   193.0       Solam Susent   \n",
       "4        303.0       70.0         151.0   565.0     2.0  Willy Santantines   \n",
       "\n",
       "   Transported  \n",
       "0        False  \n",
       "1         True  \n",
       "2        False  \n",
       "3        False  \n",
       "4         True  "
      ]
     },
     "execution_count": 42,
     "metadata": {},
     "output_type": "execute_result"
    }
   ],
   "source": [
    "df_train.head()"
   ]
  },
  {
   "cell_type": "markdown",
   "id": "bebfafb2-1af7-44e6-88c2-6390d55d8b9e",
   "metadata": {
    "tags": []
   },
   "source": [
    "## Fill in missing values"
   ]
  },
  {
   "cell_type": "code",
   "execution_count": 43,
   "id": "3cfcb034-a9db-48a1-bffb-83982a8208c9",
   "metadata": {},
   "outputs": [
    {
     "data": {
      "text/plain": [
       "PassengerId       0\n",
       "HomePlanet      201\n",
       "CryoSleep       217\n",
       "Cabin           199\n",
       "Destination     182\n",
       "Age             179\n",
       "VIP             203\n",
       "RoomService     181\n",
       "FoodCourt       183\n",
       "ShoppingMall    208\n",
       "Spa             183\n",
       "VRDeck          188\n",
       "Name            200\n",
       "Transported       0\n",
       "dtype: int64"
      ]
     },
     "execution_count": 43,
     "metadata": {},
     "output_type": "execute_result"
    }
   ],
   "source": [
    "df_train.isnull().sum()"
   ]
  },
  {
   "cell_type": "code",
   "execution_count": 44,
   "id": "6daea4bf-4454-4b52-bbf0-8b531d9b9033",
   "metadata": {},
   "outputs": [],
   "source": [
    "df_train[\"Age\"] = df_train[\"Age\"].fillna(df_train[\"Age\"].mean())\n",
    "df_train[\"Cabin\"] = df_train[\"Cabin\"].fillna(method='ffill')\n",
    "df_train[\"Destination\"] = df_train[\"Destination\"].fillna(method='ffill')\n",
    "df_train[\"HomePlanet\"] = df_train[\"HomePlanet\"].fillna(method='ffill')\n",
    "df_train[\"RoomService\"] = df_train[\"RoomService\"].fillna(df_train[\"RoomService\"].median())\n",
    "df_train[\"FoodCourt\"] = df_train[\"FoodCourt\"].fillna(df_train[\"FoodCourt\"].median())\n",
    "df_train[\"ShoppingMall\"] = df_train[\"ShoppingMall\"].fillna(df_train[\"ShoppingMall\"].median())\n",
    "df_train[\"Spa\"] = df_train[\"Spa\"].fillna(df_train[\"Spa\"].median())\n",
    "df_train[\"VRDeck\"] = df_train[\"VRDeck\"].fillna(df_train[\"VRDeck\"].median())\n",
    "df_train[\"CryoSleep\"] = df_train[\"CryoSleep\"].fillna(False)\n",
    "df_train[\"VIP\"] = df_train[\"VIP\"].fillna(False)"
   ]
  },
  {
   "cell_type": "code",
   "execution_count": 45,
   "id": "dcf0d6ef-f11c-4bb2-a1db-8ec737fb22bd",
   "metadata": {},
   "outputs": [],
   "source": [
    "df_test[\"Age\"] = df_test[\"Age\"].fillna(df_train[\"Age\"].mean())\n",
    "df_test[\"Cabin\"] = df_test[\"Cabin\"].fillna(method='ffill')\n",
    "df_test[\"Destination\"] = df_test[\"Destination\"].fillna(method='ffill')\n",
    "df_test[\"HomePlanet\"] = df_test[\"HomePlanet\"].fillna(method='ffill')\n",
    "df_test[\"RoomService\"] = df_test[\"RoomService\"].fillna(df_train[\"RoomService\"].median())\n",
    "df_test[\"FoodCourt\"] = df_test[\"FoodCourt\"].fillna(df_train[\"FoodCourt\"].median())\n",
    "df_test[\"ShoppingMall\"] = df_test[\"ShoppingMall\"].fillna(df_train[\"ShoppingMall\"].median())\n",
    "df_test[\"Spa\"] = df_test[\"Spa\"].fillna(df_train[\"Spa\"].median())\n",
    "df_test[\"VRDeck\"] = df_test[\"VRDeck\"].fillna(df_train[\"VRDeck\"].median())\n",
    "df_test[\"CryoSleep\"] = df_test[\"CryoSleep\"].fillna(False)\n",
    "df_test[\"VIP\"] = df_test[\"VIP\"].fillna(False)"
   ]
  },
  {
   "cell_type": "markdown",
   "id": "321b74e2-8278-490e-8b1a-531bed28d68b",
   "metadata": {
    "tags": []
   },
   "source": [
    "## Encode categorical variables"
   ]
  },
  {
   "cell_type": "markdown",
   "id": "4ab2a667-cccd-45bd-9b22-5b5310266854",
   "metadata": {
    "tags": []
   },
   "source": [
    "### HomePlanet"
   ]
  },
  {
   "cell_type": "code",
   "execution_count": 46,
   "id": "aa3af63c-bae1-4162-97e2-31be7073e405",
   "metadata": {},
   "outputs": [
    {
     "name": "stdout",
     "output_type": "stream",
     "text": [
      "Earth     4720\n",
      "Europa    2177\n",
      "Mars      1796\n",
      "Name: HomePlanet, dtype: int64\n",
      "=====================================\n",
      "0    4720\n",
      "1    2177\n",
      "2    1796\n",
      "Name: HomePlanet, dtype: int64\n"
     ]
    }
   ],
   "source": [
    "print(df_train[\"HomePlanet\"].value_counts())\n",
    "print(\"=====================================\")\n",
    "hp_le = LabelEncoder()\n",
    "df_train['HomePlanet'] = hp_le.fit_transform(df_train['HomePlanet'])\n",
    "df_test['HomePlanet'] = hp_le.fit_transform(df_test['HomePlanet'])\n",
    "print(df_train[\"HomePlanet\"].value_counts())"
   ]
  },
  {
   "cell_type": "markdown",
   "id": "1c80ff54-8130-4d55-8fd0-765d79778fba",
   "metadata": {
    "tags": []
   },
   "source": [
    "### Destination"
   ]
  },
  {
   "cell_type": "code",
   "execution_count": 47,
   "id": "a4d2a8c4-ed46-4c24-9b96-0f8b8ab29a13",
   "metadata": {},
   "outputs": [
    {
     "name": "stdout",
     "output_type": "stream",
     "text": [
      "TRAPPIST-1e      6037\n",
      "55 Cancri e      1840\n",
      "PSO J318.5-22     816\n",
      "Name: Destination, dtype: int64\n",
      "=====================================\n",
      "2    6037\n",
      "0    1840\n",
      "1     816\n",
      "Name: Destination, dtype: int64\n"
     ]
    }
   ],
   "source": [
    "print(df_train[\"Destination\"].value_counts())\n",
    "print(\"=====================================\")\n",
    "de_le = LabelEncoder()\n",
    "df_train['Destination'] = de_le.fit_transform(df_train['Destination'])\n",
    "df_test['Destination'] = de_le.fit_transform(df_test['Destination'])\n",
    "print(df_train[\"Destination\"].value_counts())"
   ]
  },
  {
   "cell_type": "markdown",
   "id": "00c47018-3f79-4812-ab5e-78ca6353ff4c",
   "metadata": {},
   "source": [
    "### Cabin"
   ]
  },
  {
   "cell_type": "code",
   "execution_count": 48,
   "id": "cf242182-601b-47a5-a738-29885e17798f",
   "metadata": {},
   "outputs": [],
   "source": [
    "decks = [\"A\", \"B\", \"C\", \"D\", \"E\", \"F\", \"G\", \"T\"]\n",
    "sides = [\"P\", \"S\"]\n",
    "def EncodeCabin(value):\n",
    "    deck, num, side = value.split(\"/\")\n",
    "    return [decks.index(deck), int(num), sides.index(side)]\n",
    "df_train[\"Cabin\"] = df_train[\"Cabin\"].map(EncodeCabin)\n",
    "df_test[\"Cabin\"] = df_test[\"Cabin\"].map(EncodeCabin)"
   ]
  },
  {
   "cell_type": "markdown",
   "id": "251d96b2-6f32-4b66-a49e-a19b02af75eb",
   "metadata": {},
   "source": [
    "### Id"
   ]
  },
  {
   "cell_type": "code",
   "execution_count": 49,
   "id": "0d5bb856-b820-46ab-8ad3-c8d73c119582",
   "metadata": {},
   "outputs": [],
   "source": [
    "group_count_dict = {}\n",
    "for p_id in list(df_train[\"PassengerId\"]) + list(df_test[\"PassengerId\"]):\n",
    "    group = str(p_id).split(\"_\")[0]\n",
    "    if group not in group_count_dict:\n",
    "        group_count_dict[group] = 0\n",
    "    group_count_dict[group] += 1\n",
    "def EncodeId(value):\n",
    "    return group_count_dict[value.split(\"_\")[0]]\n",
    "df_train[\"PassengerId\"] = df_train[\"PassengerId\"].map(EncodeId)\n",
    "df_test[\"PassengerId\"] = df_test[\"PassengerId\"].map(EncodeId)"
   ]
  },
  {
   "cell_type": "markdown",
   "id": "a43ae61a-2201-486d-8f34-698df1a7187f",
   "metadata": {},
   "source": [
    "## Learning"
   ]
  },
  {
   "cell_type": "code",
   "execution_count": 50,
   "id": "1cd9a13c-d71f-4039-bcd9-871175610391",
   "metadata": {},
   "outputs": [],
   "source": [
    "dataX = [[p_id, hp, cs]  + cabin + [des, age, rs, fc, sm, spa, vr] for p_id, hp, cs, cabin, des, age, vip, rs, fc, sm, spa, vr, name, trans in df_train.to_numpy()]\n",
    "dataY = [[int(trans)] for p_id, hp, cs, cabin, des, age, vip, rs, fc, sm, spa, vr, name, trans in df_train.to_numpy()]"
   ]
  },
  {
   "cell_type": "code",
   "execution_count": 51,
   "id": "9efaa17c-a63c-4242-96ce-f5ee86532eb6",
   "metadata": {},
   "outputs": [
    {
     "name": "stdout",
     "output_type": "stream",
     "text": [
      "acc :  0.8034974689369535\n"
     ]
    }
   ],
   "source": [
    "num_block = 4\n",
    "test_data_num = len(dataX) // num_block\n",
    "\n",
    "accs = []\n",
    "for i in range(len(dataX) // test_data_num):\n",
    "    # データ分割\n",
    "    trainX = dataX[:test_data_num*i] + dataX[test_data_num*(i+1):]\n",
    "    trainY = dataY[:test_data_num*i] + dataY[test_data_num*(i+1):]\n",
    "    validX = dataX[test_data_num*i:test_data_num*(i+1)]\n",
    "    validY = dataY[test_data_num*i:test_data_num*(i+1)]\n",
    "    \n",
    "    #学習\n",
    "    lgb_model = lgb.LGBMClassifier(metric=\"logloss\", n_estimators=1250, learning_rate=0.00457544, max_depth=19, num_leaves=26, min_child_samples=5)\n",
    "    lgb_model.fit(trainX, trainY)\n",
    "\n",
    "    # 予測\n",
    "    predY = lgb_model.predict(validX)\n",
    "\n",
    "    # 評価    \n",
    "    accs.append(accuracy_score(validY, predY))\n",
    "    \n",
    "print(\"acc : \", np.average(accs))"
   ]
  },
  {
   "cell_type": "code",
   "execution_count": 52,
   "id": "bc0b312d-a5c2-4f47-95dd-4a660b44db06",
   "metadata": {},
   "outputs": [
    {
     "data": {
      "text/plain": [
       "array([ 841, 1637,  767, 2857, 4569, 1924,  859, 2784, 2487, 3003, 2099,\n",
       "       3524, 3899])"
      ]
     },
     "execution_count": 52,
     "metadata": {},
     "output_type": "execute_result"
    }
   ],
   "source": [
    "lgb_model.feature_importances_"
   ]
  },
  {
   "cell_type": "markdown",
   "id": "78fecef8-6865-44fd-be38-a9a784b57914",
   "metadata": {
    "tags": []
   },
   "source": [
    "## Turning Hyper Param"
   ]
  },
  {
   "cell_type": "code",
   "execution_count": 53,
   "id": "74029f56-5b88-4c27-83c9-b77bbb862dcd",
   "metadata": {},
   "outputs": [
    {
     "name": "stderr",
     "output_type": "stream",
     "text": [
      "\u001b[32m[I 2022-11-11 15:02:46,760]\u001b[0m A new study created in memory with name: no-name-716891bc-f33d-4328-b570-999b446beae9\u001b[0m\n",
      "\u001b[32m[I 2022-11-11 15:02:58,692]\u001b[0m Trial 0 finished with value: 0.7857800276115968 and parameters: {'learning_rate': 0.029850915286675453, 'n_estimators': 1632, 'max_depth': 8, 'num_leaves': 52, 'min_child_samples': 19}. Best is trial 0 with value: 0.7857800276115968.\u001b[0m\n",
      "\u001b[32m[I 2022-11-11 15:03:02,074]\u001b[0m Trial 1 finished with value: 0.7990105844454671 and parameters: {'learning_rate': 0.027622384080804387, 'n_estimators': 423, 'max_depth': 22, 'num_leaves': 36, 'min_child_samples': 14}. Best is trial 1 with value: 0.7990105844454671.\u001b[0m\n",
      "\u001b[33m[W 2022-11-11 15:03:21,808]\u001b[0m Trial 2 failed because of the following error: KeyboardInterrupt()\u001b[0m\n",
      "Traceback (most recent call last):\n",
      "  File \"C:\\Users\\osusi\\AppData\\Local\\Programs\\Python\\Python310\\lib\\site-packages\\optuna\\study\\_optimize.py\", line 196, in _run_trial\n",
      "    value_or_values = func(trial)\n",
      "  File \"C:\\Users\\osusi\\AppData\\Local\\Temp\\ipykernel_6228\\3041694117.py\", line 19, in optuna_objective\n",
      "    lgb_model.fit(trainX, trainY)\n",
      "  File \"C:\\Users\\osusi\\AppData\\Local\\Programs\\Python\\Python310\\lib\\site-packages\\lightgbm\\sklearn.py\", line 967, in fit\n",
      "    super().fit(X, _y, sample_weight=sample_weight, init_score=init_score, eval_set=valid_sets,\n",
      "  File \"C:\\Users\\osusi\\AppData\\Local\\Programs\\Python\\Python310\\lib\\site-packages\\lightgbm\\sklearn.py\", line 748, in fit\n",
      "    self._Booster = train(\n",
      "  File \"C:\\Users\\osusi\\AppData\\Local\\Programs\\Python\\Python310\\lib\\site-packages\\lightgbm\\engine.py\", line 316, in train\n",
      "    booster.model_from_string(booster.model_to_string(), verbose='_silent_false').free_dataset()\n",
      "  File \"C:\\Users\\osusi\\AppData\\Local\\Programs\\Python\\Python310\\lib\\site-packages\\lightgbm\\basic.py\", line 3410, in model_to_string\n",
      "    _safe_call(_LIB.LGBM_BoosterSaveModelToString(\n",
      "KeyboardInterrupt\n",
      "\n",
      "KeyboardInterrupt\n",
      "\n"
     ]
    }
   ],
   "source": [
    "def optuna_objective(trial):\n",
    "    # 最適化対象パラメータ\n",
    "    learning_rate = trial.suggest_float('learning_rate', 1e-5, 1e-1)\n",
    "    n_estimators = trial.suggest_int('n_estimators', 300, 2000)\n",
    "    max_depth = trial.suggest_int('max_depth', 5, 30)\n",
    "    num_leaves = trial.suggest_int('num_leaves', 5, 100)\n",
    "    min_child_samples = trial.suggest_int('min_child_samples', 3, 30)\n",
    "    \n",
    "    accs = []\n",
    "    for i in range(len(dataX) // test_data_num):\n",
    "        # データ分割\n",
    "        trainX = dataX[:test_data_num*i] + dataX[test_data_num*(i+1):]\n",
    "        trainY = dataY[:test_data_num*i] + dataY[test_data_num*(i+1):]\n",
    "        validX = dataX[test_data_num*i:test_data_num*(i+1)]\n",
    "        validY = dataY[test_data_num*i:test_data_num*(i+1)]\n",
    "\n",
    "        # lightGBMの学習\n",
    "        lgb_model = lgb.LGBMClassifier(n_estimators=n_estimators, learning_rate=learning_rate, max_depth=max_depth, num_leaves=num_leaves, min_child_samples=min_child_samples)\n",
    "        lgb_model.fit(trainX, trainY)\n",
    "\n",
    "        # 予測\n",
    "        predY = lgb_model.predict(validX)\n",
    "\n",
    "        # 評価    \n",
    "        accs.append(accuracy_score(validY, predY))\n",
    "        \n",
    "    return np.average(accs)\n",
    "\n",
    "study = optuna.create_study(direction='maximize')\n",
    "study.optimize(optuna_objective, n_trials=1000)"
   ]
  },
  {
   "cell_type": "markdown",
   "id": "8c2dd519-ff8e-4a73-915f-fdaebde7bd1c",
   "metadata": {},
   "source": [
    "## Submission"
   ]
  },
  {
   "cell_type": "code",
   "execution_count": 54,
   "id": "8f235bd5-7f39-4db1-b123-7f74a796b162",
   "metadata": {},
   "outputs": [],
   "source": [
    "df_sub = pd.read_csv(\"data/sample_submission.csv\")"
   ]
  },
  {
   "cell_type": "code",
   "execution_count": 55,
   "id": "88146dd1-abd1-425b-b502-f961473f7385",
   "metadata": {},
   "outputs": [
    {
     "data": {
      "text/html": [
       "<style>#sk-container-id-2 {color: black;background-color: white;}#sk-container-id-2 pre{padding: 0;}#sk-container-id-2 div.sk-toggleable {background-color: white;}#sk-container-id-2 label.sk-toggleable__label {cursor: pointer;display: block;width: 100%;margin-bottom: 0;padding: 0.3em;box-sizing: border-box;text-align: center;}#sk-container-id-2 label.sk-toggleable__label-arrow:before {content: \"▸\";float: left;margin-right: 0.25em;color: #696969;}#sk-container-id-2 label.sk-toggleable__label-arrow:hover:before {color: black;}#sk-container-id-2 div.sk-estimator:hover label.sk-toggleable__label-arrow:before {color: black;}#sk-container-id-2 div.sk-toggleable__content {max-height: 0;max-width: 0;overflow: hidden;text-align: left;background-color: #f0f8ff;}#sk-container-id-2 div.sk-toggleable__content pre {margin: 0.2em;color: black;border-radius: 0.25em;background-color: #f0f8ff;}#sk-container-id-2 input.sk-toggleable__control:checked~div.sk-toggleable__content {max-height: 200px;max-width: 100%;overflow: auto;}#sk-container-id-2 input.sk-toggleable__control:checked~label.sk-toggleable__label-arrow:before {content: \"▾\";}#sk-container-id-2 div.sk-estimator input.sk-toggleable__control:checked~label.sk-toggleable__label {background-color: #d4ebff;}#sk-container-id-2 div.sk-label input.sk-toggleable__control:checked~label.sk-toggleable__label {background-color: #d4ebff;}#sk-container-id-2 input.sk-hidden--visually {border: 0;clip: rect(1px 1px 1px 1px);clip: rect(1px, 1px, 1px, 1px);height: 1px;margin: -1px;overflow: hidden;padding: 0;position: absolute;width: 1px;}#sk-container-id-2 div.sk-estimator {font-family: monospace;background-color: #f0f8ff;border: 1px dotted black;border-radius: 0.25em;box-sizing: border-box;margin-bottom: 0.5em;}#sk-container-id-2 div.sk-estimator:hover {background-color: #d4ebff;}#sk-container-id-2 div.sk-parallel-item::after {content: \"\";width: 100%;border-bottom: 1px solid gray;flex-grow: 1;}#sk-container-id-2 div.sk-label:hover label.sk-toggleable__label {background-color: #d4ebff;}#sk-container-id-2 div.sk-serial::before {content: \"\";position: absolute;border-left: 1px solid gray;box-sizing: border-box;top: 0;bottom: 0;left: 50%;z-index: 0;}#sk-container-id-2 div.sk-serial {display: flex;flex-direction: column;align-items: center;background-color: white;padding-right: 0.2em;padding-left: 0.2em;position: relative;}#sk-container-id-2 div.sk-item {position: relative;z-index: 1;}#sk-container-id-2 div.sk-parallel {display: flex;align-items: stretch;justify-content: center;background-color: white;position: relative;}#sk-container-id-2 div.sk-item::before, #sk-container-id-2 div.sk-parallel-item::before {content: \"\";position: absolute;border-left: 1px solid gray;box-sizing: border-box;top: 0;bottom: 0;left: 50%;z-index: -1;}#sk-container-id-2 div.sk-parallel-item {display: flex;flex-direction: column;z-index: 1;position: relative;background-color: white;}#sk-container-id-2 div.sk-parallel-item:first-child::after {align-self: flex-end;width: 50%;}#sk-container-id-2 div.sk-parallel-item:last-child::after {align-self: flex-start;width: 50%;}#sk-container-id-2 div.sk-parallel-item:only-child::after {width: 0;}#sk-container-id-2 div.sk-dashed-wrapped {border: 1px dashed gray;margin: 0 0.4em 0.5em 0.4em;box-sizing: border-box;padding-bottom: 0.4em;background-color: white;}#sk-container-id-2 div.sk-label label {font-family: monospace;font-weight: bold;display: inline-block;line-height: 1.2em;}#sk-container-id-2 div.sk-label-container {text-align: center;}#sk-container-id-2 div.sk-container {/* jupyter's `normalize.less` sets `[hidden] { display: none; }` but bootstrap.min.css set `[hidden] { display: none !important; }` so we also need the `!important` here to be able to override the default hidden behavior on the sphinx rendered scikit-learn.org. See: https://github.com/scikit-learn/scikit-learn/issues/21755 */display: inline-block !important;position: relative;}#sk-container-id-2 div.sk-text-repr-fallback {display: none;}</style><div id=\"sk-container-id-2\" class=\"sk-top-container\"><div class=\"sk-text-repr-fallback\"><pre>LGBMClassifier(learning_rate=0.00457544, max_depth=19, metric=&#x27;logloss&#x27;,\n",
       "               min_child_samples=5, n_estimators=1250, num_leaves=26)</pre><b>In a Jupyter environment, please rerun this cell to show the HTML representation or trust the notebook. <br />On GitHub, the HTML representation is unable to render, please try loading this page with nbviewer.org.</b></div><div class=\"sk-container\" hidden><div class=\"sk-item\"><div class=\"sk-estimator sk-toggleable\"><input class=\"sk-toggleable__control sk-hidden--visually\" id=\"sk-estimator-id-2\" type=\"checkbox\" checked><label for=\"sk-estimator-id-2\" class=\"sk-toggleable__label sk-toggleable__label-arrow\">LGBMClassifier</label><div class=\"sk-toggleable__content\"><pre>LGBMClassifier(learning_rate=0.00457544, max_depth=19, metric=&#x27;logloss&#x27;,\n",
       "               min_child_samples=5, n_estimators=1250, num_leaves=26)</pre></div></div></div></div></div>"
      ],
      "text/plain": [
       "LGBMClassifier(learning_rate=0.00457544, max_depth=19, metric='logloss',\n",
       "               min_child_samples=5, n_estimators=1250, num_leaves=26)"
      ]
     },
     "execution_count": 55,
     "metadata": {},
     "output_type": "execute_result"
    }
   ],
   "source": [
    "lgb_model = lgb.LGBMClassifier(metric=\"logloss\", n_estimators=1250, learning_rate=0.00457544, max_depth=19, num_leaves=26, min_child_samples=5)\n",
    "lgb_model.fit(dataX, dataY)"
   ]
  },
  {
   "cell_type": "code",
   "execution_count": 56,
   "id": "98944d83-1212-4463-9b6e-f25cc9f78dfd",
   "metadata": {},
   "outputs": [],
   "source": [
    "testX = [[p_id, hp, cs]  + cabin + [des, age, rs, fc, sm, spa, vr] for p_id, hp, cs, cabin, des, age, vip , rs, fc, sm, spa, vr, name in df_test.to_numpy()]"
   ]
  },
  {
   "cell_type": "code",
   "execution_count": 57,
   "id": "62d9e5b3-7c0f-46c3-a497-7b420c8c9e6b",
   "metadata": {},
   "outputs": [],
   "source": [
    "predY = list(map(bool, lgb_model.predict(testX)))"
   ]
  },
  {
   "cell_type": "code",
   "execution_count": 58,
   "id": "602b7cd3-4670-453e-b066-06032a408ea1",
   "metadata": {},
   "outputs": [],
   "source": [
    "df_sub[\"Transported\"] = predY"
   ]
  },
  {
   "cell_type": "code",
   "execution_count": 59,
   "id": "4b605ff5-ce21-43a4-9f41-8ffafff81795",
   "metadata": {},
   "outputs": [],
   "source": [
    "df_sub.to_csv(\"data/submission.csv\", index=False)"
   ]
  },
  {
   "cell_type": "code",
   "execution_count": null,
   "id": "7a7fea08-b8b0-4425-8770-f0798ee016a6",
   "metadata": {},
   "outputs": [],
   "source": []
  }
 ],
 "metadata": {
  "kernelspec": {
   "display_name": "Python 3 (ipykernel)",
   "language": "python",
   "name": "python3"
  },
  "language_info": {
   "codemirror_mode": {
    "name": "ipython",
    "version": 3
   },
   "file_extension": ".py",
   "mimetype": "text/x-python",
   "name": "python",
   "nbconvert_exporter": "python",
   "pygments_lexer": "ipython3",
   "version": "3.10.8"
  }
 },
 "nbformat": 4,
 "nbformat_minor": 5
}
